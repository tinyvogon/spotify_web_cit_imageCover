{
 "cells": [
  {
   "cell_type": "markdown",
   "id": "advisory-transport",
   "metadata": {},
   "source": [
    "<!-- # SPOTIFY\n",
    "- ENTER a song Title, Artist Name, Album Name\n",
    "- Play songs by clicking TRACK ID (url)\n",
    "\n",
    "<b>NOTE:</b> Requires Spotify Login to play songs -->"
   ]
  },
  {
   "cell_type": "code",
   "execution_count": 3,
   "id": "strange-theater",
   "metadata": {},
   "outputs": [
    {
     "data": {
      "text/html": [
       "<center><img src=\"https://wallpaperaccess.com/full/1373261.png\" width= \"600\" height=\"500\" ></center>"
      ],
      "text/plain": [
       "<IPython.core.display.HTML object>"
      ]
     },
     "execution_count": 3,
     "metadata": {},
     "output_type": "execute_result"
    }
   ],
   "source": [
    "from IPython.display import Image\n",
    "from IPython.core.display import HTML\n",
    "\n",
    "html1= '<center><img src=\"https://wallpaperaccess.com/full/1373261.png\" width= \"650\" height=\"350\" ></center>'\n",
    "#Image(url='https://aldianews.com/sites/default/files/articles/spotify-logo-1920x1080_fouoik-1.jpg', width= 300, height= 200)\n",
    "\n",
    "HTML(html1)"
   ]
  },
  {
   "cell_type": "code",
   "execution_count": 2,
   "id": "amazing-breath",
   "metadata": {},
   "outputs": [],
   "source": [
    "import datetime\n",
    "import requests\n",
    "import numpy as np\n",
    "import pandas as pd\n",
    "import base64 # For Encoding\n",
    "\n",
    "import json\n",
    "from urllib.parse import urlencode # TO pass URL Code: DATA and Query\n",
    "\n",
    "# WIDGET\n",
    "from ipywidgets import widget\n",
    "from IPython.display import display, clear_output\n",
    "\n",
    "import ipywidgets as widget\n",
    "#import warnings"
   ]
  },
  {
   "cell_type": "code",
   "execution_count": 3,
   "id": "toxic-wichita",
   "metadata": {},
   "outputs": [],
   "source": [
    "# Client Credentials\n",
    "client_id= '1cb077b9fdd144fca661a644ea95420b'\n",
    "client_secret= 'c9485fcc9a7e4f9a900413d7c89b63e2'"
   ]
  },
  {
   "cell_type": "code",
   "execution_count": 4,
   "id": "everyday-layout",
   "metadata": {},
   "outputs": [],
   "source": [
    "# CLASS OBJECT to authenticate KEY \n",
    "class SpotifyAPI(object):\n",
    "    \n",
    "    # assiging each Value after Retrieving the data\n",
    "    access_token= None\n",
    "    access_token_expires= datetime.datetime.now() # current DateTime\n",
    "    access_token_DID_epxire= True  # BY default\n",
    "    client_id= None\n",
    "    client_secret= None\n",
    "    \n",
    "    # URL for SPOTIFY api\n",
    "    token_url= \"https://accounts.spotify.com/api/token\"\n",
    "    \n",
    "    \n",
    "    # creating a FUNCTION that will call itself for Initialization: \n",
    "    # Initializing: Client ID and Client Secret\n",
    "    def __init__(self, client_id, client_secret, *args, **kwargs):\n",
    "        super().__init__(*args, **kwargs)\n",
    "        \n",
    "        # initializing the CLient ID and Client Secret key\n",
    "        self.client_id= client_id\n",
    "        self.client_secret= client_secret\n",
    "    \n",
    "    # Authentication Purpose:\n",
    "    # creates base64 credentials by encoding base64 and returns the DECODED version\n",
    "    def get_client_credentials(self):\n",
    "        # Update the credentials and CHECK for Verification\n",
    "        \n",
    "        client_id= self.client_id\n",
    "        client_secret= self.client_secret\n",
    "        \n",
    "        # To verify Client Credential is EMPTY\n",
    "        if client_id == None or client_secret ==None:\n",
    "            raise Exception(\"You must set client_id and client_secret\")\n",
    "        \n",
    "        # IF verification PASSED: ENCODE with base64 using F-strp0ing\n",
    "        client_credentials= f\"{client_id}:{client_secret}\"\n",
    "        client_creds_base64= base64.b64encode(client_credentials.encode()) #Encode Creds\n",
    "        \n",
    "        return client_creds_base64.decode() #Return the Decoded Creds\n",
    "\n",
    "    \n",
    "    def get_token_headers(self):\n",
    "        # get the Client encoded Credential\n",
    "        client_cred_b64= self.get_client_credentials()\n",
    "        \n",
    "        return{\n",
    "            \"Authorization\": f\"Basic {client_cred_b64}\"\n",
    "        }\n",
    "    \n",
    "    # Get Token Dat\n",
    "    def get_token_data(self):\n",
    "        return{\n",
    "            \"grant_type\": \"client_credentials\"\n",
    "        }\n",
    "    \n",
    "    # EXTRACT DATA to Check Authentication using passed TOKEN header, and Client Creds\n",
    "    \n",
    "    def perform_authentication(self):\n",
    "        token_url = self.token_url\n",
    "        token_data= self.get_token_data()\n",
    "        token_headers= self.get_token_headers()\n",
    "        \n",
    "        # Retrieve Data from the passed URL\n",
    "        req_data= requests.post(token_url, data= token_data, headers= token_headers) \n",
    "        # check STATUS code \n",
    "        if req_data.status_code not in range(200, 299):\n",
    "            return False\n",
    "        \n",
    "        # Run this if STATUS code is OK\n",
    "        data= req_data.json()\n",
    "        now= datetime.datetime.now() # Get the current Date and Time\n",
    "        access_token= data['access_token'] # get the AccessTOKEN\n",
    "        expires_in= data['expires_in'] # Expiry time in seconds\n",
    "        \n",
    "        expires= now+ datetime.timedelta(seconds= expires_in)\n",
    "        self.access_token= access_token # initialziing\n",
    "        self.access_token_expires= expires\n",
    "        self.access_token_DID_epxire= expires < now # which will be TRUE always\n",
    "            \n",
    "        return True"
   ]
  },
  {
   "cell_type": "code",
   "execution_count": 5,
   "id": "seventh-disposal",
   "metadata": {},
   "outputs": [],
   "source": [
    "# AUTHENTICATION with client ID and Client Secret KEY\n",
    "\n",
    "client_spotify= SpotifyAPI(client_id, client_secret)\n",
    "client_spotify.perform_authentication()\n",
    "\n",
    "access_token= search= client_spotify.access_token\n",
    "\n",
    "headers= {\n",
    "    \"Authorization\": f\"Bearer {access_token}\"\n",
    "}\n",
    "\n",
    "# Spotify API for SEARCH endpoint\n",
    "endpoint= \"https://api.spotify.com/v1/search\"\n",
    "\n",
    "\n",
    "# Function to SEARCH song, artist, album, etc.\n",
    "\n",
    "def get_track_info(str):\n",
    "    data= urlencode({\"q\": str, \"type\":\"track\"}) # using the 'q' to perform QUERY to get TIME and TRACK\n",
    "\n",
    "    lookup_url= f\"{endpoint}?{data}\"\n",
    "    \n",
    "    r= requests.get(lookup_url, headers= headers)\n",
    "    return r.json()\n"
   ]
  },
  {
   "cell_type": "code",
   "execution_count": 10,
   "id": "aerial-village",
   "metadata": {},
   "outputs": [
    {
     "data": {
      "application/vnd.jupyter.widget-view+json": {
       "model_id": "688db7011df843d39926c025f753cdc9",
       "version_major": 2,
       "version_minor": 0
      },
      "text/plain": [
       "Text(value='', placeholder='Enter Song Title, Artist Name')"
      ]
     },
     "metadata": {},
     "output_type": "display_data"
    },
    {
     "data": {
      "application/vnd.jupyter.widget-view+json": {
       "model_id": "7dda4f6b90754be7a7bfbb3d5b119441",
       "version_major": 2,
       "version_minor": 0
      },
      "text/plain": [
       "Button(description='Search', style=ButtonStyle())"
      ]
     },
     "metadata": {},
     "output_type": "display_data"
    },
    {
     "data": {
      "application/vnd.jupyter.widget-view+json": {
       "model_id": "9122eaca93514f38a94a9ec8d2bf297b",
       "version_major": 2,
       "version_minor": 0
      },
      "text/plain": [
       "Output()"
      ]
     },
     "metadata": {},
     "output_type": "display_data"
    }
   ],
   "source": [
    "# RETIREVE data from spotify Search function\n",
    "\n",
    "button = widget.Button(description= \"Search\")\n",
    "outPut= widget.Output()\n",
    "\n",
    "# Search Criteria\n",
    "srch_title= widget.Text(\n",
    "    value= '',\n",
    "    placeholder= 'Enter Song Title, Artist Name'\n",
    ")\n",
    "\n",
    "# DISPLAY: display the buttons and search box\n",
    "display(srch_title)\n",
    "display(button, outPut)\n",
    "\n",
    "# WIDGET function apply\n",
    "# FUNCTION when button CLICKED\n",
    "\n",
    "def on_button_action(b):\n",
    "    with outPut:\n",
    "        # clear output AFTER each SEARCH\n",
    "        clear_output()\n",
    "        \n",
    "        # RETIREVE data from spotify Search function\n",
    "        track_data= get_track_info(srch_title.value)\n",
    "\n",
    "        # FUNCTION That returns DataFrame\n",
    "        def searched_items(meta_data):\n",
    "            # DataFrame\n",
    "            # empty lists for the META DATA from JSON format\n",
    "            Image= []\n",
    "            Songs= []\n",
    "            Album= []\n",
    "            Release_date= []\n",
    "            Artist= []\n",
    "            Track_id= []\n",
    "            #Market= []\n",
    "            \n",
    "            # adding HTTP to make a ULR link searchable on SPOTIFY web by ID\n",
    "            # link_url= 'https://open.spotify.com/track/'\n",
    "\n",
    "            for i in range(0, len(meta_data['tracks']['items'])):\n",
    "                \n",
    "                Image.append(meta_data['tracks']['items'][i]['album']['images'][1].get('url'))\n",
    "                Songs.append(meta_data['tracks']['items'][i]['name'])\n",
    "                Album.append(meta_data['tracks']['items'][i]['album']['name'])\n",
    "                Release_date.append(meta_data['tracks']['items'][i]['album']['release_date'])\n",
    "                Artist.append(meta_data['tracks']['items'][i]['album']['artists'][0]['name'])\n",
    "                Track_id.append(meta_data['tracks']['items'][i]['external_urls'].get('spotify'))\n",
    "                #Market.append(meta_data['tracks']['items'][i]['album']['available_markets'])\n",
    "\n",
    "            # New dataframe\n",
    "            #df_data_spot= pd.DataFrame(columns=['Image','Artist','Song', 'Album', 'Release_Date','Track_ID', 'Market'])\n",
    "            \n",
    "            \n",
    "            # without MARKET available info\n",
    "            df_data_spot= pd.DataFrame(columns=['Image','Artist','Song', 'Album', 'Release_Date','Track_ID'])\n",
    "            \n",
    "            df_data_spot['Image']= Image\n",
    "            df_data_spot['Artist']= Artist\n",
    "            df_data_spot['Song']= Songs\n",
    "            df_data_spot['Album']= Album\n",
    "            df_data_spot['Release_Date']= Release_date\n",
    "            df_data_spot['Track_ID']= Track_id\n",
    "            #df_data_spot['Market']= Market\n",
    "\n",
    "            \n",
    "            # Function using URL link by SONG ID \n",
    "            def make_click(v):\n",
    "                return '<a href=\"{}\">{}</a>'.format(v, v)\n",
    "\n",
    "            # Applying the function Create COLUMN of hyperlink (TRCK ID)\n",
    "            #df_data_spot= df_data_spot.style.format({'Track_ID': make_click})\n",
    "            \n",
    "            #df_data_spot.to\n",
    "            \n",
    "            return df_data_spot\n",
    "\n",
    "\n",
    "        \n",
    "        # LINK to make clickable on Pandas dataframe List\n",
    "        # Function using URL link by SONG ID \n",
    "        def make_click(v):\n",
    "            return '<a href=\"{}\">{}</a>'.format(v, v)\n",
    "        \n",
    "        \n",
    "        \n",
    "        # IMAGE cover from URL\n",
    "        # pass this function for IMAGE column which will have URLs to web\n",
    "        def path_to_image(path):\n",
    "            return '<img src=\"'+ path + '\", width= \"300\">'\n",
    "        \n",
    "        # Create NEW dataFrame\n",
    "        #df_spot_link= searched_items(track_data).style.format({'Track_ID': make_click})\n",
    "       \n",
    "  \n",
    "        #HTML('<style>{}</style>'.format(CSS))\n",
    "        \n",
    "        # using display FUNCTION to display the DataFRAME and HTML contents(image)\n",
    "        #display(searched_items(track_data).iloc[0])\n",
    "        display(HTML(searched_items(track_data).to_html(escape= False, formatters=dict(Image= path_to_image))))\n",
    "            \n",
    "# Click ACTIOn\n",
    "button.on_click(on_button_action)\n"
   ]
  },
  {
   "cell_type": "markdown",
   "id": "metric-panel",
   "metadata": {},
   "source": []
  },
  {
   "cell_type": "code",
   "execution_count": 7,
   "id": "defined-metropolitan",
   "metadata": {},
   "outputs": [],
   "source": [
    "# LIST out the libraries used\n",
    "# import watermark"
   ]
  },
  {
   "cell_type": "code",
   "execution_count": 8,
   "id": "former-portuguese",
   "metadata": {},
   "outputs": [],
   "source": [
    "# %load_ext watermark\n",
    "# %watermark -m -p pandas,numpy,json,ipywidgets,requests,IPython"
   ]
  },
  {
   "cell_type": "code",
   "execution_count": null,
   "id": "driven-referral",
   "metadata": {},
   "outputs": [],
   "source": []
  }
 ],
 "metadata": {
  "kernelspec": {
   "display_name": "Python 3",
   "language": "python",
   "name": "python3"
  },
  "language_info": {
   "codemirror_mode": {
    "name": "ipython",
    "version": 3
   },
   "file_extension": ".py",
   "mimetype": "text/x-python",
   "name": "python",
   "nbconvert_exporter": "python",
   "pygments_lexer": "ipython3",
   "version": "3.8.8"
  },
  "voila": {
   "theme": "dark"
  }
 },
 "nbformat": 4,
 "nbformat_minor": 5
}
