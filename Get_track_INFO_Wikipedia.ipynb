{
 "cells": [
  {
   "cell_type": "markdown",
   "id": "deadly-myrtle",
   "metadata": {},
   "source": [
    "# GET ARTIST INFO from WIKIPEDIA"
   ]
  },
  {
   "cell_type": "code",
   "execution_count": 1,
   "id": "parliamentary-thong",
   "metadata": {},
   "outputs": [],
   "source": [
    "# Using selenium to get TRACK info\n",
    "import selenium\n",
    "from selenium import webdriver\n",
    "from selenium.webdriver.chrome.options import Options\n",
    "from selenium.webdriver.common.by import By\n",
    "from selenium.webdriver.common.keys import Keys\n",
    "\n",
    "\n",
    "# html contents\n",
    "from IPython.display import display\n",
    "from IPython.core.display import HTML"
   ]
  },
  {
   "cell_type": "code",
   "execution_count": 2,
   "id": "indie-treasure",
   "metadata": {},
   "outputs": [
    {
     "name": "stdout",
     "output_type": "stream",
     "text": [
      "Name:  Coldplay\n",
      "Bio: \n",
      " After changing their name to Coldplay, the band recorded and released two EPs: Safety in 1998 and The Blue Room in 1999. The latter was their first release on a major record label, after signing to Parlophone.[6] Coldplay achieved worldwide fame with the release of the song \"Yellow\" in 2000, followed in the same year by their debut album Parachutes, which was nominated for the Mercury Prize. The band's second album, A Rush of Blood to the Head (2002), was released to critical acclaim. Their next release, X&Y, was the best-selling album worldwide of 2005. Their Brian Eno-produced fourth studio album, Viva la Vida or Death and All His Friends (2008) was the best-selling album worldwide of said year and earned three Grammy Awards. In 2011, Coldplay released their fifth studio album, Mylo Xyloto, which topped the charts in over 34 countries and was the UK's best-selling rock album of 2011.[7] The band have since released Ghost Stories (2014), A Head Full of Dreams (2015) and Everyday Life (2019).\n"
     ]
    },
    {
     "data": {
      "text/html": [
       "<img src=\"https://upload.wikimedia.org/wikipedia/commons/thumb/0/07/Coldplay_2017%2C_cropped_01.jpg/220px-Coldplay_2017%2C_cropped_01.jpg\" width=\"200\" height=\"150\">"
      ],
      "text/plain": [
       "<IPython.core.display.HTML object>"
      ]
     },
     "execution_count": 2,
     "metadata": {},
     "output_type": "execute_result"
    }
   ],
   "source": [
    "browser_options= Options()\n",
    "browser_options.add_argument('--headless')\n",
    "\n",
    "# headless \n",
    "#browser= webdriver.Chrome(options=browser_options)\n",
    "\n",
    "browser= webdriver.Chrome()\n",
    "\n",
    "browser.get('https://en.wikipedia.org/wiki/Main_Page')\n",
    "\n",
    "\n",
    "# wating time before scrapping\n",
    "browser.implicitly_wait(8)\n",
    "\n",
    "# locate the placeholder, here looking for Search box\n",
    "srch_box= browser.find_element_by_xpath('//*[@id=\"searchInput\"]')\n",
    "\n",
    "\n",
    "# send Keys with STRINGS\n",
    "srch_box.send_keys('coldplay')\n",
    "#srch_box.send_keys(Keys.RETURN)\n",
    "\n",
    "# clear the Search box\n",
    "#srch_box.clear()\n",
    "\n",
    "# click for the searched string\n",
    "login= browser.find_element_by_xpath('//*[@id=\"searchButton\"]')\n",
    "login.click()\n",
    "\n",
    "browser.implicitly_wait(10)\n",
    "\n",
    "# Click the FIRST searched item from the searched content\n",
    "#first_item= browser.find_element_by_link_text(f'{\"data-serp-pos=\"}\"{0}\"').click()\n",
    "# click to the first item\n",
    "\n",
    "browser.implicitly_wait(5)\n",
    "\n",
    "# NEXT page\n",
    "# GET the NAME of the ARTIST\n",
    "name_artist= browser.find_element_by_xpath('//*[@id=\"firstHeading\"]')\n",
    "\n",
    "\n",
    "# DOB \n",
    "artist_info= browser.find_element_by_xpath('//*[@id=\"mw-content-text\"]/div[1]/p[3]')\n",
    "\n",
    "# GET image from wikipedia\n",
    "image_artist= browser.find_element_by_xpath('//*[@id=\"mw-content-text\"]/div[1]/table[1]/tbody/tr[2]/td/a/img')\n",
    "img_src= image_artist.get_attribute('src')\n",
    "\n",
    "print('Name: ',name_artist.text)\n",
    "print('Bio: \\n', artist_info.text)\n",
    "#print('Link: \\n', image_artist.get_attribute('src'))\n",
    "\n",
    "html_pic= '<img src=\\\"'+img_src+'\\\" width=\\\"200\\\" height=\\\"150\\\">'\n",
    "\n",
    "HTML(html_pic)\n"
   ]
  },
  {
   "cell_type": "code",
   "execution_count": 3,
   "id": "traditional-afghanistan",
   "metadata": {},
   "outputs": [],
   "source": [
    "# closes selenium browser\n",
    "browser.quit()"
   ]
  },
  {
   "cell_type": "code",
   "execution_count": null,
   "id": "documented-secretary",
   "metadata": {},
   "outputs": [],
   "source": []
  }
 ],
 "metadata": {
  "kernelspec": {
   "display_name": "Python 3",
   "language": "python",
   "name": "python3"
  },
  "language_info": {
   "codemirror_mode": {
    "name": "ipython",
    "version": 3
   },
   "file_extension": ".py",
   "mimetype": "text/x-python",
   "name": "python",
   "nbconvert_exporter": "python",
   "pygments_lexer": "ipython3",
   "version": "3.8.8"
  }
 },
 "nbformat": 4,
 "nbformat_minor": 5
}
