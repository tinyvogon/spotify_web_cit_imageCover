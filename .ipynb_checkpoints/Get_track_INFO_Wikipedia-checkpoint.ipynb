{
 "cells": [
  {
   "cell_type": "markdown",
   "id": "deadly-myrtle",
   "metadata": {},
   "source": [
    "# GET ARTIST INFO from WIKIPEDIA"
   ]
  },
  {
   "cell_type": "code",
   "execution_count": 1,
   "id": "parliamentary-thong",
   "metadata": {},
   "outputs": [],
   "source": [
    "# Using selenium to get TRACK info\n",
    "import selenium\n",
    "from selenium import webdriver\n",
    "from selenium.webdriver.chrome.options import Options\n",
    "from selenium.webdriver.common.by import By\n",
    "from selenium.webdriver.common.keys import Keys\n",
    "\n",
    "\n",
    "# html contents\n",
    "from IPython.display import display, clear_output\n",
    "from IPython.core.display import HTML\n",
    "\n",
    "# FONT style\n",
    "import fontstyle\n",
    "\n",
    "# Widget\n",
    "import ipywidgets as widget"
   ]
  },
  {
   "cell_type": "code",
   "execution_count": 2,
   "id": "northern-juvenile",
   "metadata": {},
   "outputs": [],
   "source": [
    "# FUNCTION to GET information from wiki\n",
    "# pass key word into the function\n",
    "\n",
    "def wiki_info(srch_name):\n",
    "\n",
    "    browser_options= Options()\n",
    "    browser_options.add_argument('--headless')\n",
    "\n",
    "    # headless \n",
    "    #browser= webdriver.Chrome(options=browser_options)\n",
    "\n",
    "    browser= webdriver.Chrome(options= browser_options)\n",
    "    browser.get('https://en.wikipedia.org/wiki/Main_Page')\n",
    "\n",
    "    # wating time before scrapping\n",
    "    browser.implicitly_wait(5)\n",
    "\n",
    "    # locate the placeholder, here looking for Search box\n",
    "    srch_box= browser.find_element_by_xpath('//*[@id=\"searchInput\"]')\n",
    "\n",
    "    # searched strings\n",
    "    #usr_input= input() # SHOWING ERROR IN voila\n",
    "\n",
    "    #usr_input=\"50 cent\"\n",
    "\n",
    "    # send Keys with STRINGS\n",
    "    srch_box.send_keys(srch_name)\n",
    "\n",
    "    # click for the searched string\n",
    "    login= browser.find_element_by_xpath('//*[@id=\"searchButton\"]')\n",
    "    login.click()\n",
    "\n",
    "    try:\n",
    "        #browser.implicitly_wait(4)\n",
    "\n",
    "        # NEXT page\n",
    "        # GET the NAME of the ARTIST\n",
    "        name_artist= browser.find_element_by_xpath('//*[@id=\"firstHeading\"]')\n",
    "\n",
    "        # get BIO from wiki, first paragraph \n",
    "        artist_info= browser.find_element_by_xpath('//*[@id=\"mw-content-text\"]/div[1]/p[3]')\n",
    "\n",
    "        # GET image from wikipedia\n",
    "        image_artist= browser.find_element_by_xpath('//*[@id=\"mw-content-text\"]/div[1]/table[1]/tbody/tr[2]/td/a/img')\n",
    "        img_src= image_artist.get_attribute('src')\n",
    "\n",
    "        print('Name: ',fontstyle.apply(name_artist.text, 'bold'))\n",
    "\n",
    "        print('Bio: \\n', fontstyle.apply(artist_info.text, 'blue/blink'))\n",
    "\n",
    "        html_pic= '<img src=\\\"'+img_src+'\\\" width=\\\"200\\\" height=\\\"150\\\">'\n",
    "\n",
    "        display(HTML(html_pic))\n",
    "\n",
    "    # RETURNS the searched Name if not found on WIKI\n",
    "    except:\n",
    "        print(fontstyle.apply(srch_name.upper(), 'red/bold'))\n",
    "        print(fontstyle.apply(\"\\\"No info on WIKI\\\"\",'red' ))\n",
    "\n",
    "\n",
    "    # closes selenium browser\n",
    "    browser.close()    "
   ]
  },
  {
   "cell_type": "code",
   "execution_count": 3,
   "id": "flush-indie",
   "metadata": {},
   "outputs": [],
   "source": [
    "# TEST: w widget and text\n",
    "# display(wiki_info(srch_art_name.value))"
   ]
  },
  {
   "cell_type": "code",
   "execution_count": 4,
   "id": "instructional-peninsula",
   "metadata": {},
   "outputs": [
    {
     "data": {
      "application/vnd.jupyter.widget-view+json": {
       "model_id": "0df62e466a254cea8aae0502e22f0341",
       "version_major": 2,
       "version_minor": 0
      },
      "text/plain": [
       "Text(value='', placeholder='Enter the Name')"
      ]
     },
     "metadata": {},
     "output_type": "display_data"
    },
    {
     "data": {
      "application/vnd.jupyter.widget-view+json": {
       "model_id": "65214152f24649bd985df0d30ca834c1",
       "version_major": 2,
       "version_minor": 0
      },
      "text/plain": [
       "Button(description='Search', style=ButtonStyle())"
      ]
     },
     "metadata": {},
     "output_type": "display_data"
    },
    {
     "data": {
      "application/vnd.jupyter.widget-view+json": {
       "model_id": "18e9eed3964f4085966a6750d65faae7",
       "version_major": 2,
       "version_minor": 0
      },
      "text/plain": [
       "Output()"
      ]
     },
     "metadata": {},
     "output_type": "display_data"
    }
   ],
   "source": [
    "button= widget.Button(description= \"Search\") # button \n",
    "\n",
    "# with BUTTON onClick\n",
    "outPut= widget.Output()\n",
    "\n",
    "srch_art_name= widget.Text(\n",
    "    value= '',\n",
    "    placeholder= 'Enter the Name'\n",
    ")\n",
    "display(srch_art_name)\n",
    "display(button,outPut)\n",
    "\n",
    "# OUTPUT onClick Function\n",
    "def on_button_activity(b):\n",
    "    # by on click action\n",
    "    with outPut:\n",
    "        \n",
    "        # first, clear any output\n",
    "        clear_output()\n",
    "        \n",
    "        wiki_info(srch_art_name.value)\n",
    "\n",
    "# test\n",
    "button.on_click(on_button_activity)\n",
    "        "
   ]
  },
  {
   "cell_type": "code",
   "execution_count": null,
   "id": "provincial-sphere",
   "metadata": {},
   "outputs": [],
   "source": []
  },
  {
   "cell_type": "code",
   "execution_count": null,
   "id": "adequate-walter",
   "metadata": {},
   "outputs": [],
   "source": []
  },
  {
   "cell_type": "code",
   "execution_count": null,
   "id": "sealed-culture",
   "metadata": {},
   "outputs": [],
   "source": []
  },
  {
   "cell_type": "markdown",
   "id": "closing-vegetarian",
   "metadata": {},
   "source": [
    "# TEXT: Testing color font "
   ]
  },
  {
   "cell_type": "code",
   "execution_count": 5,
   "id": "charitable-flour",
   "metadata": {},
   "outputs": [
    {
     "name": "stdout",
     "output_type": "stream",
     "text": [
      "\u001b[94m\u001b[3m\u001b[4m\u001b[7myo mama so fat, she ate whole curry\u001b[0m\n",
      "\u001b[1m\u001b[92m\u001b[4mhe ain't no mad, he just super happy\u001b[0m\n",
      "he ain't no mad, he just super happy\n",
      "\u001b[93m\u001b[9myo mama so fat, she ate whole curry\u001b[0m\n"
     ]
    }
   ],
   "source": [
    "info= 'yo mama so fat, she ate whole curry'\n",
    "\n",
    "print( fontstyle.apply(info, 'blue/Italic/underline/inverse'))\n",
    "\n",
    "info_two= fontstyle.apply('he ain\\'t no mad, he just super happy', 'bold/GREEN/underline')\n",
    "\n",
    "print(info_two)\n",
    "\n",
    "# preserve text\n",
    "print(fontstyle.preserve(info_two))\n",
    "\n",
    "print(fontstyle.apply(info, 'yellow/strike'))"
   ]
  },
  {
   "cell_type": "code",
   "execution_count": null,
   "id": "spare-platinum",
   "metadata": {},
   "outputs": [],
   "source": []
  },
  {
   "cell_type": "code",
   "execution_count": null,
   "id": "dressed-whole",
   "metadata": {},
   "outputs": [],
   "source": []
  }
 ],
 "metadata": {
  "kernelspec": {
   "display_name": "Python 3",
   "language": "python",
   "name": "python3"
  },
  "language_info": {
   "codemirror_mode": {
    "name": "ipython",
    "version": 3
   },
   "file_extension": ".py",
   "mimetype": "text/x-python",
   "name": "python",
   "nbconvert_exporter": "python",
   "pygments_lexer": "ipython3",
   "version": "3.8.8"
  }
 },
 "nbformat": 4,
 "nbformat_minor": 5
}
