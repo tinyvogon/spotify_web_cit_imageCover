{
 "cells": [
  {
   "cell_type": "markdown",
   "id": "overhead-grenada",
   "metadata": {},
   "source": [
    "# testing URL on pandas list"
   ]
  },
  {
   "cell_type": "code",
   "execution_count": 1,
   "id": "mexican-reporter",
   "metadata": {},
   "outputs": [],
   "source": [
    "import numpy as np\n",
    "import pandas as pd"
   ]
  },
  {
   "cell_type": "code",
   "execution_count": 2,
   "id": "double-auction",
   "metadata": {},
   "outputs": [
    {
     "data": {
      "text/html": [
       "<div>\n",
       "<style scoped>\n",
       "    .dataframe tbody tr th:only-of-type {\n",
       "        vertical-align: middle;\n",
       "    }\n",
       "\n",
       "    .dataframe tbody tr th {\n",
       "        vertical-align: top;\n",
       "    }\n",
       "\n",
       "    .dataframe thead th {\n",
       "        text-align: right;\n",
       "    }\n",
       "</style>\n",
       "<table border=\"1\" class=\"dataframe\">\n",
       "  <thead>\n",
       "    <tr style=\"text-align: right;\">\n",
       "      <th></th>\n",
       "      <th>title</th>\n",
       "    </tr>\n",
       "  </thead>\n",
       "  <tbody>\n",
       "    <tr>\n",
       "      <th>0</th>\n",
       "      <td>cheap thrills</td>\n",
       "    </tr>\n",
       "    <tr>\n",
       "      <th>1</th>\n",
       "      <td>treasure</td>\n",
       "    </tr>\n",
       "  </tbody>\n",
       "</table>\n",
       "</div>"
      ],
      "text/plain": [
       "           title\n",
       "0  cheap thrills\n",
       "1       treasure"
      ]
     },
     "execution_count": 2,
     "metadata": {},
     "output_type": "execute_result"
    }
   ],
   "source": [
    "# Using track IDs on pandas DF\n",
    "my_song_id= ['1ZwdS5xdxEREPySFridCfh','5WUlDfRSoLAfcVSX1WnrxN']\n",
    "song_title=['cheap thrills', 'treasure']\n",
    "\n",
    "# empty list\n",
    "df_songs= pd.DataFrame(song_title, columns=['title'])\n",
    "df_songs"
   ]
  },
  {
   "cell_type": "code",
   "execution_count": 3,
   "id": "former-jersey",
   "metadata": {},
   "outputs": [
    {
     "data": {
      "text/plain": [
       "['https://open.spotify.com/track/3SdTKo2uVsxFblQjpScoHy?si=1ZwdS5xdxEREPySFridCfh',\n",
       " 'https://open.spotify.com/track/3SdTKo2uVsxFblQjpScoHy?si=5WUlDfRSoLAfcVSX1WnrxN']"
      ]
     },
     "execution_count": 3,
     "metadata": {},
     "output_type": "execute_result"
    }
   ],
   "source": [
    "# adding HTTP to make a ULR link on DF column\n",
    "link_url= 'https://open.spotify.com/track/3SdTKo2uVsxFblQjpScoHy?si='\n",
    "song_link= []\n",
    "for l in my_song_id:\n",
    "    song_link.append(link_url+l)\n",
    "song_link"
   ]
  },
  {
   "cell_type": "code",
   "execution_count": 4,
   "id": "urban-genre",
   "metadata": {},
   "outputs": [
    {
     "data": {
      "text/html": [
       "<div>\n",
       "<style scoped>\n",
       "    .dataframe tbody tr th:only-of-type {\n",
       "        vertical-align: middle;\n",
       "    }\n",
       "\n",
       "    .dataframe tbody tr th {\n",
       "        vertical-align: top;\n",
       "    }\n",
       "\n",
       "    .dataframe thead th {\n",
       "        text-align: right;\n",
       "    }\n",
       "</style>\n",
       "<table border=\"1\" class=\"dataframe\">\n",
       "  <thead>\n",
       "    <tr style=\"text-align: right;\">\n",
       "      <th></th>\n",
       "      <th>title</th>\n",
       "      <th>song_URL</th>\n",
       "    </tr>\n",
       "  </thead>\n",
       "  <tbody>\n",
       "    <tr>\n",
       "      <th>0</th>\n",
       "      <td>cheap thrills</td>\n",
       "      <td>https://open.spotify.com/track/3SdTKo2uVsxFblQ...</td>\n",
       "    </tr>\n",
       "    <tr>\n",
       "      <th>1</th>\n",
       "      <td>treasure</td>\n",
       "      <td>https://open.spotify.com/track/3SdTKo2uVsxFblQ...</td>\n",
       "    </tr>\n",
       "  </tbody>\n",
       "</table>\n",
       "</div>"
      ],
      "text/plain": [
       "           title                                           song_URL\n",
       "0  cheap thrills  https://open.spotify.com/track/3SdTKo2uVsxFblQ...\n",
       "1       treasure  https://open.spotify.com/track/3SdTKo2uVsxFblQ..."
      ]
     },
     "execution_count": 4,
     "metadata": {},
     "output_type": "execute_result"
    }
   ],
   "source": [
    "# adding the LINK to each song id\n",
    "   \n",
    "df_songs['song_URL']= song_link\n",
    "df_songs"
   ]
  },
  {
   "cell_type": "code",
   "execution_count": 5,
   "id": "statistical-basics",
   "metadata": {},
   "outputs": [],
   "source": [
    "from urllib.request import urlopen"
   ]
  },
  {
   "cell_type": "code",
   "execution_count": 6,
   "id": "classified-virgin",
   "metadata": {},
   "outputs": [],
   "source": [
    "def make_click(val):\n",
    "    return '<a href=\"{}\">{}</a>'.format(val,val)"
   ]
  },
  {
   "cell_type": "code",
   "execution_count": 10,
   "id": "loaded-ability",
   "metadata": {},
   "outputs": [],
   "source": [
    "df_songs=df_songs.style.format({'song_URL': make_click})\n",
    "#df_songs"
   ]
  },
  {
   "cell_type": "code",
   "execution_count": 11,
   "id": "accomplished-melissa",
   "metadata": {},
   "outputs": [
    {
     "data": {
      "text/html": [
       "<style  type=\"text/css\" >\n",
       "</style><table id=\"T_25853_\" ><thead>    <tr>        <th class=\"blank level0\" ></th>        <th class=\"col_heading level0 col0\" >title</th>        <th class=\"col_heading level0 col1\" >song_URL</th>    </tr></thead><tbody>\n",
       "                <tr>\n",
       "                        <th id=\"T_25853_level0_row0\" class=\"row_heading level0 row0\" >0</th>\n",
       "                        <td id=\"T_25853_row0_col0\" class=\"data row0 col0\" >cheap thrills</td>\n",
       "                        <td id=\"T_25853_row0_col1\" class=\"data row0 col1\" ><a href=\"https://open.spotify.com/track/3SdTKo2uVsxFblQjpScoHy?si=1ZwdS5xdxEREPySFridCfh\">https://open.spotify.com/track/3SdTKo2uVsxFblQjpScoHy?si=1ZwdS5xdxEREPySFridCfh</a></td>\n",
       "            </tr>\n",
       "            <tr>\n",
       "                        <th id=\"T_25853_level0_row1\" class=\"row_heading level0 row1\" >1</th>\n",
       "                        <td id=\"T_25853_row1_col0\" class=\"data row1 col0\" >treasure</td>\n",
       "                        <td id=\"T_25853_row1_col1\" class=\"data row1 col1\" ><a href=\"https://open.spotify.com/track/3SdTKo2uVsxFblQjpScoHy?si=5WUlDfRSoLAfcVSX1WnrxN\">https://open.spotify.com/track/3SdTKo2uVsxFblQjpScoHy?si=5WUlDfRSoLAfcVSX1WnrxN</a></td>\n",
       "            </tr>\n",
       "    </tbody></table>"
      ],
      "text/plain": [
       "<pandas.io.formats.style.Styler at 0x1e08df68ac0>"
      ]
     },
     "execution_count": 11,
     "metadata": {},
     "output_type": "execute_result"
    }
   ],
   "source": [
    "df_songs"
   ]
  },
  {
   "cell_type": "code",
   "execution_count": null,
   "id": "valued-contents",
   "metadata": {},
   "outputs": [],
   "source": []
  }
 ],
 "metadata": {
  "kernelspec": {
   "display_name": "Python 3",
   "language": "python",
   "name": "python3"
  },
  "language_info": {
   "codemirror_mode": {
    "name": "ipython",
    "version": 3
   },
   "file_extension": ".py",
   "mimetype": "text/x-python",
   "name": "python",
   "nbconvert_exporter": "python",
   "pygments_lexer": "ipython3",
   "version": "3.8.8"
  }
 },
 "nbformat": 4,
 "nbformat_minor": 5
}
